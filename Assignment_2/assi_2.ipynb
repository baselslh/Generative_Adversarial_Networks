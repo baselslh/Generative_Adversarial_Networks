{
  "cells": [
    {
      "cell_type": "code",
      "execution_count": 2,
      "metadata": {
        "colab": {
          "base_uri": "https://localhost:8080/"
        },
        "id": "gnP-mjryF71T",
        "outputId": "29e89cf2-d210-4664-bba9-2d17d4b95549"
      },
      "outputs": [
        {
          "name": "stdout",
          "output_type": "stream",
          "text": [
            "Downloading data from https://storage.googleapis.com/tensorflow/tf-keras-datasets/mnist.npz\n",
            "11493376/11490434 [==============================] - 0s 0us/step\n",
            "11501568/11490434 [==============================] - 0s 0us/step\n"
          ]
        }
      ],
      "source": [
        "from keras.datasets import mnist\n",
        "import numpy as np\n",
        "\n",
        "(x_train, _), (x_test, _) = mnist.load_data()"
      ]
    },
    {
      "cell_type": "code",
      "execution_count": 3,
      "metadata": {
        "colab": {
          "base_uri": "https://localhost:8080/"
        },
        "id": "Py6fSpb5F71b",
        "outputId": "b07bf56b-4f13-4dcf-fced-152d3fc5bc9d"
      },
      "outputs": [
        {
          "name": "stdout",
          "output_type": "stream",
          "text": [
            "(60000, 28, 28, 1) (10000, 28, 28, 1)\n",
            "(60000, 32, 32, 1) (10000, 32, 32, 1)\n"
          ]
        }
      ],
      "source": [
        "# normalization\n",
        "x_train = x_train.astype('float32') / 255.\n",
        "x_test = x_test.astype('float32') / 255.\n",
        "\n",
        "x_train_2L = np.reshape(x_train, (len(x_train), 28, 28, 1))\n",
        "x_test_2L = np.reshape(x_test, (len(x_test), 28, 28, 1))\n",
        "print(x_train_2L.shape, x_test_2L.shape)\n",
        "\n",
        "# i want to make the images 32*32 so ill pad the data with two rows of zeros on the top\n",
        "# and bottom, and two columns of zeros on the left and right (28+2+2 = 32).\n",
        "\n",
        "x_train_3L = np.pad(x_train_2L, ((0,0),(2,2),(2,2),(0,0)), 'constant')\n",
        "x_test_3L = np.pad(x_test_2L, ((0,0),(2,2),(2,2),(0,0)), 'constant')\n",
        "\n",
        "print(x_train_3L.shape, x_test_3L.shape)\n"
      ]
    },
    {
      "cell_type": "markdown",
      "metadata": {
        "id": "dFCYEYIXZyWv"
      },
      "source": [
        "Here i will implement a 2 layers model\n",
        "\n",
        "Note: the pooling layer will always reduce the size of each feature map by a factor of 2. (most commonly used),\n",
        "\n",
        "upsampling layer will increase the size of each feature map by a factor of 2. (most commonly used)(opposite of pooling layer)\n",
        "\n",
        "* So at the input layer, the input image will be (28,28,1) and the output will be (28,28,1)\n",
        "* At the first convolutional layer, the input image will be (28,28,1) and the output will be (28,28,32)\n",
        "* At the first pooling layer, the input image will be (28,28,32) and the output will be (14,14,32)\n",
        "* At the second convolutional layer, the input image will be (14,14,32) and the output will be (14,14,16)\n",
        "* At the second pooling layer, the input image will be (14,14,16) and the output will be (7,7,16)\n",
        "\n",
        "... then the opposite will happen to return to the original image shape\n",
        "\n",
        "* so at the third convolutional layer, the input image will be (7,7,16) and the output will be (7,7,16)\n",
        "* At the first upsampling layer, the input image will be (7,7,16) and the output will be (14,14,16)\n",
        "* At the fourth convolutional layer, the input image will be (14,14,16) and the output will be (14,14,32)\n",
        "* At the secound upsampling layer, the input image will be (14,14,32) and the output will be (28,28,32)\n",
        "* at the last convolutional layer, the input image will be (28,28,32) and the output will be (28,28,1)  <== this is the output of the autoencoder\n",
        "\n"
      ]
    },
    {
      "cell_type": "markdown",
      "metadata": {},
      "source": [
        "pooling helps to make the representation become approximately invariant to small translations of the input. Invariance to translation means that if we translate the input by a small amount, the values of most of the pooled outputs do not change."
      ]
    },
    {
      "cell_type": "code",
      "execution_count": 4,
      "metadata": {
        "id": "XNyUcKH0F71k"
      },
      "outputs": [],
      "source": [
        "import keras\n",
        "from keras import layers\n",
        "\n",
        "input_img = keras.Input(shape=(28, 28, 1))\n",
        "\n",
        "\n",
        "# encoding layer 1\n",
        "x = layers.Conv2D(32, (3, 3), activation='relu', padding='same')(input_img)\n",
        "x = layers.MaxPooling2D((2, 2), padding='same')(x)\n",
        "\n",
        "# encoding layer 2\n",
        "x = layers.Conv2D(16, (3, 3), activation='relu', padding='same')(x)\n",
        "encoded = layers.MaxPooling2D((2, 2), padding='same')(x)\n",
        "\n",
        "#---------------------------------------------------\n",
        "\n",
        "# decoding layer 2\n",
        "x = layers.Conv2D(16, (3, 3), activation='relu', padding='same')(encoded)\n",
        "x = layers.UpSampling2D((2, 2))(x)\n",
        "\n",
        "# decoding layer 3\n",
        "x = layers.Conv2D(32, (3, 3), activation='relu', padding='same')(x)\n",
        "x = layers.UpSampling2D((2, 2))(x)\n",
        "\n",
        "decoded = layers.Conv2D(1, (3, 3), activation='sigmoid', padding='same')(x)\n",
        "\n",
        "# these values are for 5 epochs and 128 batchsize\n",
        "\n",
        "# Total params: 3,217 for  16 - 8  val 0.0760\n",
        "# Total params: 7,265 for  16 - 16 val 0.0718\n",
        "# Total params: 12,193 for 32 - 16 val 0.0702 <= chosen\n",
        "# Total params: 28,353 for 32 - 32 val 0.068"
      ]
    },
    {
      "cell_type": "code",
      "execution_count": 5,
      "metadata": {
        "colab": {
          "base_uri": "https://localhost:8080/"
        },
        "id": "WdShKvzxF71m",
        "outputId": "d62f9d6f-5eec-4674-8d3e-d2b65d340e90"
      },
      "outputs": [
        {
          "name": "stdout",
          "output_type": "stream",
          "text": [
            "Model: \"AutoEncoder_2L\"\n",
            "_________________________________________________________________\n",
            " Layer (type)                Output Shape              Param #   \n",
            "=================================================================\n",
            " input_1 (InputLayer)        [(None, 28, 28, 1)]       0         \n",
            "                                                                 \n",
            " conv2d (Conv2D)             (None, 28, 28, 32)        320       \n",
            "                                                                 \n",
            " max_pooling2d (MaxPooling2D  (None, 14, 14, 32)       0         \n",
            " )                                                               \n",
            "                                                                 \n",
            " conv2d_1 (Conv2D)           (None, 14, 14, 16)        4624      \n",
            "                                                                 \n",
            " max_pooling2d_1 (MaxPooling  (None, 7, 7, 16)         0         \n",
            " 2D)                                                             \n",
            "                                                                 \n",
            " conv2d_2 (Conv2D)           (None, 7, 7, 16)          2320      \n",
            "                                                                 \n",
            " up_sampling2d (UpSampling2D  (None, 14, 14, 16)       0         \n",
            " )                                                               \n",
            "                                                                 \n",
            " conv2d_3 (Conv2D)           (None, 14, 14, 32)        4640      \n",
            "                                                                 \n",
            " up_sampling2d_1 (UpSampling  (None, 28, 28, 32)       0         \n",
            " 2D)                                                             \n",
            "                                                                 \n",
            " conv2d_4 (Conv2D)           (None, 28, 28, 1)         289       \n",
            "                                                                 \n",
            "=================================================================\n",
            "Total params: 12,193\n",
            "Trainable params: 12,193\n",
            "Non-trainable params: 0\n",
            "_________________________________________________________________\n",
            "Model: \"Encoder_2L\"\n",
            "_________________________________________________________________\n",
            " Layer (type)                Output Shape              Param #   \n",
            "=================================================================\n",
            " input_1 (InputLayer)        [(None, 28, 28, 1)]       0         \n",
            "                                                                 \n",
            " conv2d (Conv2D)             (None, 28, 28, 32)        320       \n",
            "                                                                 \n",
            " max_pooling2d (MaxPooling2D  (None, 14, 14, 32)       0         \n",
            " )                                                               \n",
            "                                                                 \n",
            " conv2d_1 (Conv2D)           (None, 14, 14, 16)        4624      \n",
            "                                                                 \n",
            " max_pooling2d_1 (MaxPooling  (None, 7, 7, 16)         0         \n",
            " 2D)                                                             \n",
            "                                                                 \n",
            "=================================================================\n",
            "Total params: 4,944\n",
            "Trainable params: 4,944\n",
            "Non-trainable params: 0\n",
            "_________________________________________________________________\n",
            "Model: \"Decoder_2L\"\n",
            "_________________________________________________________________\n",
            " Layer (type)                Output Shape              Param #   \n",
            "=================================================================\n",
            " input_2 (InputLayer)        [(None, 7, 7, 16)]        0         \n",
            "                                                                 \n",
            " conv2d_2 (Conv2D)           (None, 7, 7, 16)          2320      \n",
            "                                                                 \n",
            " up_sampling2d (UpSampling2D  (None, 14, 14, 16)       0         \n",
            " )                                                               \n",
            "                                                                 \n",
            " conv2d_3 (Conv2D)           (None, 14, 14, 32)        4640      \n",
            "                                                                 \n",
            " up_sampling2d_1 (UpSampling  (None, 28, 28, 32)       0         \n",
            " 2D)                                                             \n",
            "                                                                 \n",
            " conv2d_4 (Conv2D)           (None, 28, 28, 1)         289       \n",
            "                                                                 \n",
            "=================================================================\n",
            "Total params: 7,249\n",
            "Trainable params: 7,249\n",
            "Non-trainable params: 0\n",
            "_________________________________________________________________\n"
          ]
        }
      ],
      "source": [
        "# models\n",
        "autoencoder_2L = keras.Model(input_img, decoded,name='AutoEncoder_2L')\n",
        "encoder_2L = keras.Model(input_img, encoded,name='Encoder_2L')\n",
        "\n",
        "encoded_img_2L = keras.Input(shape=(7,7,16))\n",
        "\n",
        "x = autoencoder_2L.layers[-5](encoded_img_2L)\n",
        "for i in range(-4,0):\n",
        "    x = autoencoder_2L.layers[i](x)\n",
        "decoder_2L = keras.Model(encoded_img_2L,x,name='Decoder_2L')\n",
        "\n",
        "autoencoder_2L.compile(optimizer='adam', loss='binary_crossentropy')\n",
        "autoencoder_2L.summary()\n",
        "encoder_2L.summary()\n",
        "decoder_2L.summary()"
      ]
    },
    {
      "cell_type": "code",
      "execution_count": 6,
      "metadata": {
        "colab": {
          "base_uri": "https://localhost:8080/"
        },
        "id": "leNk8xIecX7g",
        "outputId": "8da6607a-33cc-4b1a-dd72-fa46c3adb0da"
      },
      "outputs": [
        {
          "name": "stdout",
          "output_type": "stream",
          "text": [
            "Epoch 1/25\n",
            "469/469 [==============================] - 37s 14ms/step - loss: 0.1274 - val_loss: 0.0792\n",
            "Epoch 2/25\n",
            "469/469 [==============================] - 6s 13ms/step - loss: 0.0772 - val_loss: 0.0744\n",
            "Epoch 3/25\n",
            "469/469 [==============================] - 6s 13ms/step - loss: 0.0741 - val_loss: 0.0724\n",
            "Epoch 4/25\n",
            "469/469 [==============================] - 6s 13ms/step - loss: 0.0725 - val_loss: 0.0712\n",
            "Epoch 5/25\n",
            "469/469 [==============================] - 6s 13ms/step - loss: 0.0715 - val_loss: 0.0704\n",
            "Epoch 6/25\n",
            "469/469 [==============================] - 6s 13ms/step - loss: 0.0708 - val_loss: 0.0698\n",
            "Epoch 7/25\n",
            "469/469 [==============================] - 6s 13ms/step - loss: 0.0702 - val_loss: 0.0693\n",
            "Epoch 8/25\n",
            "469/469 [==============================] - 6s 13ms/step - loss: 0.0697 - val_loss: 0.0689\n",
            "Epoch 9/25\n",
            "469/469 [==============================] - 6s 13ms/step - loss: 0.0693 - val_loss: 0.0685\n",
            "Epoch 10/25\n",
            "469/469 [==============================] - 6s 13ms/step - loss: 0.0689 - val_loss: 0.0682\n",
            "Epoch 11/25\n",
            "469/469 [==============================] - 6s 13ms/step - loss: 0.0686 - val_loss: 0.0679\n",
            "Epoch 12/25\n",
            "469/469 [==============================] - 6s 13ms/step - loss: 0.0683 - val_loss: 0.0678\n",
            "Epoch 13/25\n",
            "469/469 [==============================] - 6s 13ms/step - loss: 0.0681 - val_loss: 0.0674\n",
            "Epoch 14/25\n",
            "469/469 [==============================] - 6s 13ms/step - loss: 0.0679 - val_loss: 0.0672\n",
            "Epoch 15/25\n",
            "469/469 [==============================] - 6s 13ms/step - loss: 0.0677 - val_loss: 0.0671\n",
            "Epoch 16/25\n",
            "469/469 [==============================] - 6s 13ms/step - loss: 0.0676 - val_loss: 0.0672\n",
            "Epoch 17/25\n",
            "469/469 [==============================] - 6s 14ms/step - loss: 0.0674 - val_loss: 0.0668\n",
            "Epoch 18/25\n",
            "469/469 [==============================] - 6s 13ms/step - loss: 0.0672 - val_loss: 0.0666\n",
            "Epoch 19/25\n",
            "469/469 [==============================] - 6s 13ms/step - loss: 0.0671 - val_loss: 0.0666\n",
            "Epoch 20/25\n",
            "469/469 [==============================] - 6s 13ms/step - loss: 0.0670 - val_loss: 0.0665\n",
            "Epoch 21/25\n",
            "469/469 [==============================] - 6s 13ms/step - loss: 0.0669 - val_loss: 0.0663\n",
            "Epoch 22/25\n",
            "469/469 [==============================] - 6s 13ms/step - loss: 0.0668 - val_loss: 0.0663\n",
            "Epoch 23/25\n",
            "469/469 [==============================] - 6s 13ms/step - loss: 0.0667 - val_loss: 0.0662\n",
            "Epoch 24/25\n",
            "469/469 [==============================] - 6s 13ms/step - loss: 0.0666 - val_loss: 0.0661\n",
            "Epoch 25/25\n",
            "469/469 [==============================] - 6s 13ms/step - loss: 0.0665 - val_loss: 0.0661\n"
          ]
        },
        {
          "data": {
            "text/plain": [
              "<keras.callbacks.History at 0x7f81a0042450>"
            ]
          },
          "execution_count": 6,
          "metadata": {},
          "output_type": "execute_result"
        }
      ],
      "source": [
        "autoencoder_2L.fit(x_train_2L, x_train_2L,\n",
        "                epochs=25, #5, #50,\n",
        "                batch_size=128,\n",
        "                shuffle=True,\n",
        "                validation_data=(x_test_2L, x_test_2L))"
      ]
    },
    {
      "cell_type": "markdown",
      "metadata": {
        "id": "GKQD5c9LaLxw"
      },
      "source": [
        "The implementation of the 3 layers model"
      ]
    },
    {
      "cell_type": "markdown",
      "metadata": {
        "id": "1QcXLgW2XC9P"
      },
      "source": [
        "Here i had 2 choices:\n",
        "\n",
        "1. make the input shape the normal (28,28,1) and remove the padding in decoding layer 3\n",
        "2. use the zero padded input ( x_train_3L ) (32,32,1) and keep the padding\n",
        "\n",
        "i tried both however i noticed that the padded input was alot better 🤔🤔\n",
        "\n",
        "(32)=>(16)=>(8)=> (4) =>(8)=>(16)=>(32)"
      ]
    },
    {
      "cell_type": "code",
      "execution_count": 7,
      "metadata": {
        "id": "8LZUjpISaKev"
      },
      "outputs": [],
      "source": [
        "import keras\n",
        "from keras import layers\n",
        "\n",
        "input_img = keras.Input(shape=(32, 32, 1))\n",
        "\n",
        "# encoding layer 1\n",
        "x = layers.Conv2D(16, (3, 3), activation='relu', padding='same')(input_img)\n",
        "x = layers.MaxPooling2D((2, 2), padding='same')(x)\n",
        "\n",
        "# encoding layer 2\n",
        "x = layers.Conv2D(16, (3, 3), activation='relu', padding='same')(x)\n",
        "x = layers.MaxPooling2D((2, 2), padding='same')(x)\n",
        "\n",
        "# encoding layer 3\n",
        "x = layers.Conv2D(16, (3, 3), activation='relu', padding='same')(x)\n",
        "encoded = layers.MaxPooling2D((2, 2), padding='same')(x)\n",
        "\n",
        "\n",
        "#---------------------------------------------------\n",
        "\n",
        "\n",
        "# decoding layer 1\n",
        "x = layers.Conv2D(16, (3, 3), activation='relu', padding='same')(encoded)\n",
        "x = layers.UpSampling2D((2, 2))(x)\n",
        "\n",
        "# decoding layer 2\n",
        "x = layers.Conv2D(16, (3, 3), activation='relu', padding='same')(x)\n",
        "x = layers.UpSampling2D((2, 2))(x)\n",
        "\n",
        "# decoding layer 3\n",
        "x = layers.Conv2D(16, (3, 3), activation='relu', padding='same')(x)\n",
        "x = layers.UpSampling2D((2, 2))(x)\n",
        "\n",
        "decoded = layers.Conv2D(1, (3, 3), activation='sigmoid', padding='same')(x)\n",
        "\n",
        "# these values are for 5 epochs and 128 batchsize\n",
        "\n",
        "# Total params: 3,369 for 16-8-4   loss: 0.1002 - val_loss: 0.0976\n",
        "# Total params: 4,385 for 16-8-8 loss: 0.0855 - val_loss: 0.0833\n",
        "# Total params: 7,857 for 16-16-8 loss: 0.0806 - val_loss: 0.0790\n",
        "# Total params: 11,905 for 16-16-16 loss: 0.0742 - val_loss: 0.0724  <= chosen\n",
        "# Total params: 12,785 for 32-16-8 loss: 0.0788 - val_loss: 0.0768\n",
        "# Total params: 16,833 for 32-16-16 loss: 0.0732 - val_loss: 0.0713\n",
        "# Total params: 30,689 for 32-32-16 loss: 0.0684 - val_loss: 0.0666"
      ]
    },
    {
      "cell_type": "code",
      "execution_count": 8,
      "metadata": {
        "colab": {
          "base_uri": "https://localhost:8080/"
        },
        "id": "ySQEV2chbZp8",
        "outputId": "acb30892-20a8-4f64-a42f-fb1cd024769c"
      },
      "outputs": [
        {
          "name": "stdout",
          "output_type": "stream",
          "text": [
            "Model: \"AutoEncoder_3L\"\n",
            "_________________________________________________________________\n",
            " Layer (type)                Output Shape              Param #   \n",
            "=================================================================\n",
            " input_3 (InputLayer)        [(None, 32, 32, 1)]       0         \n",
            "                                                                 \n",
            " conv2d_5 (Conv2D)           (None, 32, 32, 16)        160       \n",
            "                                                                 \n",
            " max_pooling2d_2 (MaxPooling  (None, 16, 16, 16)       0         \n",
            " 2D)                                                             \n",
            "                                                                 \n",
            " conv2d_6 (Conv2D)           (None, 16, 16, 16)        2320      \n",
            "                                                                 \n",
            " max_pooling2d_3 (MaxPooling  (None, 8, 8, 16)         0         \n",
            " 2D)                                                             \n",
            "                                                                 \n",
            " conv2d_7 (Conv2D)           (None, 8, 8, 16)          2320      \n",
            "                                                                 \n",
            " max_pooling2d_4 (MaxPooling  (None, 4, 4, 16)         0         \n",
            " 2D)                                                             \n",
            "                                                                 \n",
            " conv2d_8 (Conv2D)           (None, 4, 4, 16)          2320      \n",
            "                                                                 \n",
            " up_sampling2d_2 (UpSampling  (None, 8, 8, 16)         0         \n",
            " 2D)                                                             \n",
            "                                                                 \n",
            " conv2d_9 (Conv2D)           (None, 8, 8, 16)          2320      \n",
            "                                                                 \n",
            " up_sampling2d_3 (UpSampling  (None, 16, 16, 16)       0         \n",
            " 2D)                                                             \n",
            "                                                                 \n",
            " conv2d_10 (Conv2D)          (None, 16, 16, 16)        2320      \n",
            "                                                                 \n",
            " up_sampling2d_4 (UpSampling  (None, 32, 32, 16)       0         \n",
            " 2D)                                                             \n",
            "                                                                 \n",
            " conv2d_11 (Conv2D)          (None, 32, 32, 1)         145       \n",
            "                                                                 \n",
            "=================================================================\n",
            "Total params: 11,905\n",
            "Trainable params: 11,905\n",
            "Non-trainable params: 0\n",
            "_________________________________________________________________\n",
            "Model: \"Encoder_3L\"\n",
            "_________________________________________________________________\n",
            " Layer (type)                Output Shape              Param #   \n",
            "=================================================================\n",
            " input_3 (InputLayer)        [(None, 32, 32, 1)]       0         \n",
            "                                                                 \n",
            " conv2d_5 (Conv2D)           (None, 32, 32, 16)        160       \n",
            "                                                                 \n",
            " max_pooling2d_2 (MaxPooling  (None, 16, 16, 16)       0         \n",
            " 2D)                                                             \n",
            "                                                                 \n",
            " conv2d_6 (Conv2D)           (None, 16, 16, 16)        2320      \n",
            "                                                                 \n",
            " max_pooling2d_3 (MaxPooling  (None, 8, 8, 16)         0         \n",
            " 2D)                                                             \n",
            "                                                                 \n",
            " conv2d_7 (Conv2D)           (None, 8, 8, 16)          2320      \n",
            "                                                                 \n",
            " max_pooling2d_4 (MaxPooling  (None, 4, 4, 16)         0         \n",
            " 2D)                                                             \n",
            "                                                                 \n",
            "=================================================================\n",
            "Total params: 4,800\n",
            "Trainable params: 4,800\n",
            "Non-trainable params: 0\n",
            "_________________________________________________________________\n",
            "Model: \"Decoder_3L\"\n",
            "_________________________________________________________________\n",
            " Layer (type)                Output Shape              Param #   \n",
            "=================================================================\n",
            " input_4 (InputLayer)        [(None, 4, 4, 16)]        0         \n",
            "                                                                 \n",
            " conv2d_8 (Conv2D)           (None, 4, 4, 16)          2320      \n",
            "                                                                 \n",
            " up_sampling2d_2 (UpSampling  (None, 8, 8, 16)         0         \n",
            " 2D)                                                             \n",
            "                                                                 \n",
            " conv2d_9 (Conv2D)           (None, 8, 8, 16)          2320      \n",
            "                                                                 \n",
            " up_sampling2d_3 (UpSampling  (None, 16, 16, 16)       0         \n",
            " 2D)                                                             \n",
            "                                                                 \n",
            " conv2d_10 (Conv2D)          (None, 16, 16, 16)        2320      \n",
            "                                                                 \n",
            " up_sampling2d_4 (UpSampling  (None, 32, 32, 16)       0         \n",
            " 2D)                                                             \n",
            "                                                                 \n",
            " conv2d_11 (Conv2D)          (None, 32, 32, 1)         145       \n",
            "                                                                 \n",
            "=================================================================\n",
            "Total params: 7,105\n",
            "Trainable params: 7,105\n",
            "Non-trainable params: 0\n",
            "_________________________________________________________________\n"
          ]
        }
      ],
      "source": [
        "# models\n",
        "autoencoder_3L = keras.Model(input_img, decoded,name='AutoEncoder_3L')\n",
        "encoder_3L = keras.Model(input_img, encoded,name='Encoder_3L')\n",
        "\n",
        "encoded_img_3L = keras.Input(shape=(4,4,16))\n",
        "\n",
        "\n",
        "x = autoencoder_3L.layers[-7](encoded_img_3L)\n",
        "for i in range(-6,0):\n",
        "    x = autoencoder_3L.layers[i](x)\n",
        "decoder_3L = keras.Model(encoded_img_3L,x,name='Decoder_3L')\n",
        "\n",
        "autoencoder_3L.compile(optimizer='adam', loss='binary_crossentropy')\n",
        "autoencoder_3L.summary()\n",
        "encoder_3L.summary()\n",
        "decoder_3L.summary()"
      ]
    },
    {
      "cell_type": "code",
      "execution_count": 9,
      "metadata": {
        "colab": {
          "base_uri": "https://localhost:8080/"
        },
        "id": "PUk0JkCFF71o",
        "outputId": "5a24ef18-b96b-4a91-b500-7157c8fba18e"
      },
      "outputs": [
        {
          "name": "stdout",
          "output_type": "stream",
          "text": [
            "Epoch 1/25\n",
            "469/469 [==============================] - 8s 15ms/step - loss: 0.1472 - val_loss: 0.0988\n",
            "Epoch 2/25\n",
            "469/469 [==============================] - 7s 14ms/step - loss: 0.0914 - val_loss: 0.0850\n",
            "Epoch 3/25\n",
            "469/469 [==============================] - 7s 14ms/step - loss: 0.0828 - val_loss: 0.0796\n",
            "Epoch 4/25\n",
            "469/469 [==============================] - 7s 14ms/step - loss: 0.0778 - val_loss: 0.0749\n",
            "Epoch 5/25\n",
            "469/469 [==============================] - 7s 14ms/step - loss: 0.0746 - val_loss: 0.0724\n",
            "Epoch 6/25\n",
            "469/469 [==============================] - 7s 14ms/step - loss: 0.0725 - val_loss: 0.0705\n",
            "Epoch 7/25\n",
            "469/469 [==============================] - 7s 14ms/step - loss: 0.0709 - val_loss: 0.0696\n",
            "Epoch 8/25\n",
            "469/469 [==============================] - 7s 14ms/step - loss: 0.0696 - val_loss: 0.0682\n",
            "Epoch 9/25\n",
            "469/469 [==============================] - 7s 14ms/step - loss: 0.0685 - val_loss: 0.0671\n",
            "Epoch 10/25\n",
            "469/469 [==============================] - 7s 14ms/step - loss: 0.0676 - val_loss: 0.0665\n",
            "Epoch 11/25\n",
            "469/469 [==============================] - 7s 14ms/step - loss: 0.0669 - val_loss: 0.0657\n",
            "Epoch 12/25\n",
            "469/469 [==============================] - 7s 14ms/step - loss: 0.0663 - val_loss: 0.0653\n",
            "Epoch 13/25\n",
            "469/469 [==============================] - 7s 14ms/step - loss: 0.0658 - val_loss: 0.0646\n",
            "Epoch 14/25\n",
            "469/469 [==============================] - 7s 14ms/step - loss: 0.0652 - val_loss: 0.0643\n",
            "Epoch 15/25\n",
            "469/469 [==============================] - 7s 14ms/step - loss: 0.0649 - val_loss: 0.0638\n",
            "Epoch 16/25\n",
            "469/469 [==============================] - 7s 14ms/step - loss: 0.0645 - val_loss: 0.0634\n",
            "Epoch 17/25\n",
            "469/469 [==============================] - 7s 14ms/step - loss: 0.0641 - val_loss: 0.0630\n",
            "Epoch 18/25\n",
            "469/469 [==============================] - 7s 14ms/step - loss: 0.0638 - val_loss: 0.0630\n",
            "Epoch 19/25\n",
            "469/469 [==============================] - 7s 14ms/step - loss: 0.0635 - val_loss: 0.0628\n",
            "Epoch 20/25\n",
            "469/469 [==============================] - 7s 15ms/step - loss: 0.0632 - val_loss: 0.0625\n",
            "Epoch 21/25\n",
            "469/469 [==============================] - 7s 14ms/step - loss: 0.0630 - val_loss: 0.0621\n",
            "Epoch 22/25\n",
            "469/469 [==============================] - 7s 14ms/step - loss: 0.0628 - val_loss: 0.0621\n",
            "Epoch 23/25\n",
            "469/469 [==============================] - 7s 15ms/step - loss: 0.0626 - val_loss: 0.0616\n",
            "Epoch 24/25\n",
            "469/469 [==============================] - 7s 14ms/step - loss: 0.0624 - val_loss: 0.0615\n",
            "Epoch 25/25\n",
            "469/469 [==============================] - 7s 14ms/step - loss: 0.0622 - val_loss: 0.0616\n"
          ]
        },
        {
          "data": {
            "text/plain": [
              "<keras.callbacks.History at 0x7f812a2baf90>"
            ]
          },
          "execution_count": 9,
          "metadata": {},
          "output_type": "execute_result"
        }
      ],
      "source": [
        "autoencoder_3L.fit(x_train_3L, x_train_3L,\n",
        "                epochs=25, #5, #50,\n",
        "                batch_size=128,\n",
        "                shuffle=True,\n",
        "                validation_data=(x_test_3L, x_test_3L))\n",
        "\n",
        "# these are for 1 epoch with 128 batchsize\n",
        "\n",
        "# all relu + sigmoid with adam loss = loss: 0.1947 - val_loss: 0.1275\n",
        "# all relu + sigmoid with RMSprop loss = loss: 0.1824 - val_loss: 0.1434\n",
        "# all relu + sigmoid with Nadam loss = loss: 0.1932 - val_loss: 0.1452"
      ]
    },
    {
      "cell_type": "code",
      "execution_count": 10,
      "metadata": {
        "id": "0GpbGYXpF71v"
      },
      "outputs": [],
      "source": [
        "encoded_2L = encoder_2L.predict(x_test_2L)\n",
        "decoded_2L = decoder_2L.predict(encoded_2L)\n",
        "\n",
        "encoded_3L = encoder_3L.predict(x_test_3L)\n",
        "decoded_3L = decoder_3L.predict(encoded_3L)"
      ]
    },
    {
      "cell_type": "code",
      "execution_count": 11,
      "metadata": {
        "colab": {
          "base_uri": "https://localhost:8080/"
        },
        "id": "OikurTw-F71x",
        "outputId": "5b7b1ad1-6cad-4a39-986d-da87f1a96581"
      },
      "outputs": [
        {
          "name": "stdout",
          "output_type": "stream",
          "text": [
            "(10000, 28, 28, 1)\n",
            "(10000, 7, 7, 16)\n",
            "(10000, 28, 28, 1)\n",
            "-----------------------\n",
            "(10000, 32, 32, 1)\n",
            "(10000, 4, 4, 16)\n",
            "(10000, 32, 32, 1)\n"
          ]
        }
      ],
      "source": [
        "print(x_test_2L.shape)\n",
        "print(encoded_2L.shape)\n",
        "print(decoded_2L.shape)\n",
        "\n",
        "print(\"-----------------------\")\n",
        "\n",
        "print(x_test_3L.shape)\n",
        "print(encoded_3L.shape)\n",
        "print(decoded_3L.shape)"
      ]
    },
    {
      "cell_type": "markdown",
      "metadata": {
        "id": "jO9sicXLb7Hf"
      },
      "source": [
        "generating 10 random indices to use in plotting the samples"
      ]
    },
    {
      "cell_type": "code",
      "execution_count": 12,
      "metadata": {
        "colab": {
          "base_uri": "https://localhost:8080/"
        },
        "id": "X6YsM17-F712",
        "outputId": "50fb1d3a-c1f3-4254-9076-4e520d5bc0a7"
      },
      "outputs": [
        {
          "name": "stdout",
          "output_type": "stream",
          "text": [
            "[5206, 3640, 9453, 8006, 3957, 520, 2722, 7366, 1272, 1733]\n"
          ]
        }
      ],
      "source": [
        "import random\n",
        "\n",
        "noOfRandomlySelectedImages = 10  \n",
        "randomIndices = random.sample(range(0,x_test.shape[0]), noOfRandomlySelectedImages)\n",
        "\n",
        "print(randomIndices)"
      ]
    },
    {
      "cell_type": "code",
      "execution_count": 18,
      "metadata": {
        "colab": {
          "base_uri": "https://localhost:8080/",
          "height": 342
        },
        "id": "aNLE2UuwF716",
        "outputId": "31af81bc-f557-4864-f237-016e948266bb"
      },
      "outputs": [
        {
          "data": {
            "image/png": "[encoded data removed]",
            "text/plain": [
              "<Figure size 2160x360 with 20 Axes>"
            ]
          },
          "metadata": {
            "needs_background": "light"
          },
          "output_type": "display_data"
        }
      ],
      "source": [
        "import matplotlib.pyplot as plt\n",
        "\n",
        "n = noOfRandomlySelectedImages\n",
        "plt.figure(figsize=(30, 5))\n",
        "for i,j in zip(randomIndices,range(n)):\n",
        "    # Display original\n",
        "    ax = plt.subplot(2, n, j + 1)\n",
        "    plt.imshow(x_test_2L[i].reshape(28, 28))\n",
        "    plt.gray()\n",
        "    ax.get_xaxis().set_visible(False)\n",
        "    ax.get_yaxis().set_visible(False)\n",
        "\n",
        "    # # Display Encoded_2L\n",
        "    # ax = plt.subplot(5, n, j + 1 + n)\n",
        "    # plt.imshow(encoded_2L[i])\n",
        "    # plt.gray()\n",
        "    # ax.get_xaxis().set_visible(False)\n",
        "    # ax.get_yaxis().set_visible(False)\n",
        "\n",
        "    # Display reconstruction_2l\n",
        "    ax = plt.subplot(2, n, j + 1 + (n))\n",
        "    plt.imshow(decoded_2L[i].reshape(28, 28))\n",
        "    plt.gray()\n",
        "    ax.get_xaxis().set_visible(False)\n",
        "    ax.get_yaxis().set_visible(False)\n",
        "\n",
        "plt.suptitle(\"AutoEncoder_2L\",fontsize=16)\n",
        "plt.show()"
      ]
    },
    {
      "cell_type": "code",
      "execution_count": 19,
      "metadata": {
        "colab": {
          "base_uri": "https://localhost:8080/",
          "height": 342
        },
        "id": "ef4H-pgXd4Ua",
        "outputId": "cc40e256-d8c9-4e95-9952-2b6324428904"
      },
      "outputs": [
        {
          "data": {
            "image/png": "[encoded data removed]",
            "text/plain": [
              "<Figure size 2160x360 with 20 Axes>"
            ]
          },
          "metadata": {
            "needs_background": "light"
          },
          "output_type": "display_data"
        }
      ],
      "source": [
        "import matplotlib.pyplot as plt\n",
        "\n",
        "n = noOfRandomlySelectedImages\n",
        "plt.figure(figsize=(30, 5))\n",
        "for i,j in zip(randomIndices,range(n)):\n",
        "    # Display original\n",
        "    ax = plt.subplot(2, n, j + 1)\n",
        "    plt.imshow(x_test_3L[i].reshape(32, 32))\n",
        "    plt.gray()\n",
        "    ax.get_xaxis().set_visible(False)\n",
        "    ax.get_yaxis().set_visible(False)\n",
        "\n",
        "    # Display Encoded_3L\n",
        "    # ax = plt.subplot(3, n, j + 1 + n)\n",
        "    # plt.imshow(encoded_3L[i])\n",
        "    # plt.gray()\n",
        "    # ax.get_xaxis().set_visible(False)\n",
        "    # ax.get_yaxis().set_visible(False)\n",
        "\n",
        "    # Display reconstruction_3l\n",
        "    ax = plt.subplot(2, n, j + 1 + (1 * n))\n",
        "    plt.imshow(decoded_3L[i].reshape(32, 32))\n",
        "    plt.gray()\n",
        "    ax.get_xaxis().set_visible(False)\n",
        "    ax.get_yaxis().set_visible(False)\n",
        "\n",
        "plt.suptitle(\"AutoEncoder_3L\",fontsize=16)\n",
        "plt.show()"
      ]
    }
  ],
  "metadata": {
    "accelerator": "GPU",
    "colab": {
      "name": "assi_3.ipynb",
      "provenance": []
    },
    "interpreter": {
      "hash": "e7370f93d1d0cde622a1f8e1c04877d8463912d04d973331ad4851f04de6915a"
    },
    "kernelspec": {
      "display_name": "Python 3.9.7 64-bit",
      "language": "python",
      "name": "python3"
    },
    "language_info": {
      "codemirror_mode": {
        "name": "ipython",
        "version": 3
      },
      "file_extension": ".py",
      "mimetype": "text/x-python",
      "name": "python",
      "nbconvert_exporter": "python",
      "pygments_lexer": "ipython3",
      "version": "3.9.7"
    },
    "orig_nbformat": 4
  },
  "nbformat": 4,
  "nbformat_minor": 0
}
